{
  "cells": [
    {
      "cell_type": "code",
      "execution_count": null,
      "metadata": {
        "colab": {
          "base_uri": "https://localhost:8080/"
        },
        "id": "WXk0ar0xK2kN",
        "outputId": "c9e466e0-6f78-4cc5-e0dd-59c20c0cf2f2"
      },
      "outputs": [
        {
          "output_type": "stream",
          "name": "stderr",
          "text": [
            "<ipython-input-1-9ddc276f201b>:10: DtypeWarning: Columns (12,15,16,18,19,21,27,28,29) have mixed types. Specify dtype option on import or set low_memory=False.\n",
            "  data = pd.read_csv(\"protein_data.tsv.gz\", sep=\"\\t\")\n"
          ]
        }
      ],
      "source": [
        "import torch\n",
        "from torch import nn\n",
        "import pandas as pd\n",
        "from torch.utils.data import Dataset, DataLoader\n",
        "from transformers import AutoTokenizer, EsmModel\n",
        "from sklearn.preprocessing import OneHotEncoder\n",
        "import tqdm\n",
        "import torch.optim as optim\n",
        "\n",
        "data = pd.read_csv(\"protein_data.tsv.gz\", sep=\"\\t\")\n",
        "data = data[data[\"Length\"] <= 256] # removes all proteins with a length > 256\n",
        "# Reduce EC number to 3 digits to decrease data size\n",
        "data = data.dropna(subset=['EC number']).assign(\n",
        "    ec_number_reduced = lambda x: x['EC number'].str.split(\".\").str[:3].str.join(\".\")\n",
        ")\n",
        "\n",
        "# Filter out EC numbers with frequency less than 100\n",
        "ec_number_counts = data[\"ec_number_reduced\"].value_counts()\n",
        "data = data[data[\"ec_number_reduced\"].isin(ec_number_counts[ec_number_counts >= 100].index)]"
      ]
    },
    {
      "cell_type": "code",
      "execution_count": null,
      "metadata": {
        "colab": {
          "base_uri": "https://localhost:8080/",
          "height": 276,
          "referenced_widgets": [
            "26e632d92a684fc8aa5ad74f06a708b7",
            "8fd8cc91ff4a4afabe47255878a65a7b",
            "b7a27a4d5a6144cfba29b93454411791",
            "8f77a9e1723d4468be569e422a5496c6",
            "1eb48d7dbaab40e69e354f00045f4327",
            "3b98eb5236ab411ca2eb990a2db83b1d",
            "f3701bd6d2194a7c96f99d9c65a5f03b",
            "b82489d588ce4073a70b2e898b38efea",
            "cc51434c07214399ab7bbb55000531fd",
            "defdc061f1424c9ea98ec7dba185796a",
            "6654c682a9014d0b95c7d17a1256e251",
            "ef88036d98a841ce993a8a5028f60d65",
            "4c1af42af79f4e62a0812de0d4a9b12a",
            "2cbbf5e9842e4b60bdff6555aa08de76",
            "52c74f433ce14530b6e655fb9194f3e2",
            "1001881043754337aab0e9b1072f9a14",
            "8383be74f5dc453eb6c043aacceedec8",
            "a141b2ff6e31442a8c610d43dddaa661",
            "c33f24a3cebd407d9477dd435bde013e",
            "8dbcf9c0dd114ca698ba2db7260413b2",
            "5206d576dfa24dabb733bc8a584c9dd7",
            "0d6d028f4c2149b4b8d4b28ede7da953",
            "c7667a03fd7f4f079f88a8e11d749a37",
            "751ecc1e1fa04e08a4cb4da9e69738d6",
            "baaa3153f93941a98584500b289a7d07",
            "e3bd1b0f45214c2a8753035fe2d065fe",
            "4e755d395c2c4561823aa87758967e40",
            "997341af6c2849d494732e8a9ccc105e",
            "709ea885dff141c8a5117a2445e93814",
            "15749782742b4cf9b8e2defc04c48e45",
            "b243c79d97c140a3b6902787fed4c25c",
            "2fc3f74ce5f74c2386e6e43fcca58a3d",
            "40c4695d57274b92b83b87fe57feba33"
          ]
        },
        "id": "tg2HPHMzej_8",
        "outputId": "fe441a87-f4a1-411e-c7ac-f144e9f23509"
      },
      "outputs": [
        {
          "output_type": "stream",
          "name": "stderr",
          "text": [
            "/usr/local/lib/python3.10/dist-packages/sklearn/preprocessing/_encoders.py:868: FutureWarning: `sparse` was renamed to `sparse_output` in version 1.2 and will be removed in 1.4. `sparse_output` is ignored unless you leave `sparse` to its default value.\n",
            "  warnings.warn(\n",
            "/usr/local/lib/python3.10/dist-packages/huggingface_hub/utils/_token.py:88: UserWarning: \n",
            "The secret `HF_TOKEN` does not exist in your Colab secrets.\n",
            "To authenticate with the Hugging Face Hub, create a token in your settings tab (https://huggingface.co/settings/tokens), set it as secret in your Google Colab and restart your session.\n",
            "You will be able to reuse this secret in all of your notebooks.\n",
            "Please note that authentication is recommended but still optional to access public models or datasets.\n",
            "  warnings.warn(\n"
          ]
        },
        {
          "output_type": "display_data",
          "data": {
            "text/plain": [
              "tokenizer_config.json:   0%|          | 0.00/95.0 [00:00<?, ?B/s]"
            ],
            "application/vnd.jupyter.widget-view+json": {
              "version_major": 2,
              "version_minor": 0,
              "model_id": "26e632d92a684fc8aa5ad74f06a708b7"
            }
          },
          "metadata": {}
        },
        {
          "output_type": "display_data",
          "data": {
            "text/plain": [
              "vocab.txt:   0%|          | 0.00/93.0 [00:00<?, ?B/s]"
            ],
            "application/vnd.jupyter.widget-view+json": {
              "version_major": 2,
              "version_minor": 0,
              "model_id": "ef88036d98a841ce993a8a5028f60d65"
            }
          },
          "metadata": {}
        },
        {
          "output_type": "display_data",
          "data": {
            "text/plain": [
              "special_tokens_map.json:   0%|          | 0.00/125 [00:00<?, ?B/s]"
            ],
            "application/vnd.jupyter.widget-view+json": {
              "version_major": 2,
              "version_minor": 0,
              "model_id": "c7667a03fd7f4f079f88a8e11d749a37"
            }
          },
          "metadata": {}
        }
      ],
      "source": [
        "class CustomDataset(Dataset):\n",
        "    def __init__(self, data, labels):\n",
        "        self.data = data\n",
        "        self.labels = labels\n",
        "\n",
        "    def __len__(self):\n",
        "        return len(self.labels)\n",
        "\n",
        "    def __getitem__(self, idx):\n",
        "        return self.data[idx], self.labels[idx]\n",
        "\n",
        "encoder = OneHotEncoder(sparse=False)\n",
        "encoded_column = encoder.fit_transform(data[[\"ec_number_reduced\"]])\n",
        "\n",
        "# Split data into 80% training data and 20% testing data\n",
        "train_size = int(0.8 * len(data))\n",
        "train_data = data[:train_size]\n",
        "test_data = data[train_size:]\n",
        "\n",
        "train_labels = encoded_column[:train_size]\n",
        "test_labels = encoded_column[train_size:]\n",
        "\n",
        "tokenizer = AutoTokenizer.from_pretrained(\"facebook/esm2_t6_8M_UR50D\")\n",
        "train_dataset = CustomDataset(train_data[\"Sequence\"].tolist(), train_labels)\n",
        "test_dataset = CustomDataset(test_data[\"Sequence\"].tolist(), test_labels)\n",
        "\n",
        "# Used to combine data into batches\n",
        "def collate_fn(batch):\n",
        "    proteins = [item[0] for item in batch]\n",
        "    labels = [item[1] for item in batch]\n",
        "    return tokenizer(proteins, padding=True), torch.tensor(labels)\n",
        "\n",
        "batch_size = 8\n",
        "# Put data into batches\n",
        "train_dataloader = DataLoader(train_dataset, batch_size, collate_fn=collate_fn, shuffle=True)\n",
        "test_dataloader = DataLoader(test_dataset, batch_size, collate_fn=collate_fn, shuffle=True)"
      ]
    },
    {
      "cell_type": "code",
      "execution_count": null,
      "metadata": {
        "colab": {
          "base_uri": "https://localhost:8080/",
          "height": 375
        },
        "id": "72zE8wWWUXFa",
        "outputId": "097c4abb-1d71-4a34-cc8a-224ec906506c"
      },
      "outputs": [
        {
          "output_type": "display_data",
          "data": {
            "text/plain": [
              "<Figure size 1400x500 with 2 Axes>"
            ],
            "image/png": "[encoded data removed]"
          },
          "metadata": {}
        }
      ],
      "source": [
        "import matplotlib.pyplot as plt\n",
        "from collections import Counter\n",
        "\n",
        "ec_number_to_index = {ec_number: idx for idx, ec_number in enumerate(data[\"ec_number_reduced\"].unique())}\n",
        "index_to_ec_number = {idx: ec_number for ec_number, idx in ec_number_to_index.items()}\n",
        "\n",
        "train_indices = train_data[\"ec_number_reduced\"].map(ec_number_to_index)\n",
        "test_indices = test_data[\"ec_number_reduced\"].map(ec_number_to_index)\n",
        "\n",
        "train_freq = Counter(train_indices)\n",
        "test_freq = Counter(test_indices)\n",
        "\n",
        "train_freq_sorted = [train_freq[i] for i in range(len(ec_number_to_index))]\n",
        "test_freq_sorted = [test_freq[i] for i in range(len(ec_number_to_index))]\n",
        "\n",
        "fig, axes = plt.subplots(nrows=1, ncols=2, figsize=(14, 5), sharey=True)\n",
        "\n",
        "axes[0].bar(range(len(ec_number_to_index)), train_freq_sorted, color=\"b\")\n",
        "axes[0].set_title(\"Frequency of EC Numbers in Training Data\")\n",
        "axes[0].set_xlabel(\"EC Number Index\")\n",
        "axes[0].set_ylabel(\"Frequency\")\n",
        "axes[0].set_xticks(range(len(ec_number_to_index)))\n",
        "axes[0].set_xticklabels([index_to_ec_number[i] for i in range(len(ec_number_to_index))], rotation=90)\n",
        "\n",
        "axes[1].bar(range(len(ec_number_to_index)), test_freq_sorted, color=\"r\")\n",
        "axes[1].set_title(\"Frequency of EC Numbers in Testing Data\")\n",
        "axes[1].set_xlabel(\"EC Number Index\")\n",
        "axes[1].set_xticks(range(len(ec_number_to_index)))\n",
        "axes[1].set_xticklabels([index_to_ec_number[i] for i in range(len(ec_number_to_index))], rotation=90)\n",
        "\n",
        "plt.tight_layout()\n",
        "plt.show()"
      ]
    },
    {
      "cell_type": "code",
      "execution_count": null,
      "metadata": {
        "colab": {
          "base_uri": "https://localhost:8080/",
          "height": 137,
          "referenced_widgets": [
            "3cc070846bc8473c87dbda68d62af0f3",
            "859b0ac09c20455f91edaff5ede524cd",
            "4f56fb552a6949b4a55eae184899860f",
            "bd21c08fe018408eb904b86fca821484",
            "df68012ddabf4d75922b73d774c4fca2",
            "340731cb2ca647d497c740c6ffde87c7",
            "ed809489eeb74aba9b1ef931b7098a8a",
            "ac9a251df5314565b0c959fd47715214",
            "5530257c6c2d4fc8b9112d0815e91c89",
            "7edfca481a084dd391b331a52cd223da",
            "cb60a6882a4a43788384a0d408e23ce5",
            "c80a904ecbb842aebfc903c5c8778894",
            "c91daa4984074481a93f2cb0ef1356d8",
            "82a628d035274991a58e0bd4c6fc5b2a",
            "51d0ac8f83a34333b9804456d03b4fd1",
            "927b499cab2a4595b099a1d428a3cb75",
            "3a8318062b714654bd32cb0ee3e64ed7",
            "f630832674b6464882f4b8049b653a57",
            "3a899fd663cb4fc783c59dfb1617047b",
            "5227c24de9e748ffa4c056c0d48b9832",
            "6f4dfd46fa4445d3920646bc3c2e310e",
            "8524922ea3994d6d80dda9ce236ceca8"
          ]
        },
        "id": "g7t3O5SySRm-",
        "outputId": "b85d83cd-44ac-4ce9-a29d-dfd1e41acae9"
      },
      "outputs": [
        {
          "output_type": "display_data",
          "data": {
            "text/plain": [
              "config.json:   0%|          | 0.00/775 [00:00<?, ?B/s]"
            ],
            "application/vnd.jupyter.widget-view+json": {
              "version_major": 2,
              "version_minor": 0,
              "model_id": "3cc070846bc8473c87dbda68d62af0f3"
            }
          },
          "metadata": {}
        },
        {
          "output_type": "display_data",
          "data": {
            "text/plain": [
              "model.safetensors:   0%|          | 0.00/31.4M [00:00<?, ?B/s]"
            ],
            "application/vnd.jupyter.widget-view+json": {
              "version_major": 2,
              "version_minor": 0,
              "model_id": "c80a904ecbb842aebfc903c5c8778894"
            }
          },
          "metadata": {}
        },
        {
          "output_type": "stream",
          "name": "stderr",
          "text": [
            "Some weights of EsmModel were not initialized from the model checkpoint at facebook/esm2_t6_8M_UR50D and are newly initialized: ['esm.pooler.dense.bias', 'esm.pooler.dense.weight']\n",
            "You should probably TRAIN this model on a down-stream task to be able to use it for predictions and inference.\n"
          ]
        }
      ],
      "source": [
        "class MyModel(nn.Module):\n",
        "    def __init__(self, esm_model, num_classes):\n",
        "        super(MyModel, self).__init__()\n",
        "        self.esm_model = esm_model\n",
        "        for param in self.esm_model.parameters():\n",
        "            param.requires_grad = False\n",
        "        # Four layers: 320, 200, 128, num_classes\n",
        "        self.fc_layers = nn.Sequential(nn.Linear(320, 200),\n",
        "                                       nn.ReLU(),\n",
        "                                       nn.Linear(200, 128),\n",
        "                                       nn.ReLU(),\n",
        "                                       nn.Linear(128, num_classes))\n",
        "\n",
        "    def forward(self, input_ids, attention_mask):\n",
        "        outputs = self.esm_model(input_ids=input_ids, attention_mask=attention_mask, output_hidden_states=True)\n",
        "        pool = torch.mean(outputs.hidden_states[-1], dim=1)\n",
        "        logits = self.fc_layers(pool)\n",
        "        probs = torch.softmax(logits, dim=1)\n",
        "        return logits, probs\n",
        "\n",
        "num_classes = len(set(data[\"ec_number_reduced\"].tolist()))\n",
        "esm_model = EsmModel.from_pretrained(\"facebook/esm2_t6_8M_UR50D\")\n",
        "model = MyModel(esm_model, num_classes).to(\"cuda\")"
      ]
    },
    {
      "cell_type": "code",
      "source": [
        "from google.colab import drive\n",
        "drive.mount('/content/drive', force_remount=True)"
      ],
      "metadata": {
        "colab": {
          "base_uri": "https://localhost:8080/"
        },
        "id": "SsOSepd0vWHH",
        "outputId": "0f84810d-a723-42b9-e54a-3c0275fe2889"
      },
      "execution_count": null,
      "outputs": [
        {
          "output_type": "stream",
          "name": "stdout",
          "text": [
            "Mounted at /content/drive\n"
          ]
        }
      ]
    },
    {
      "cell_type": "code",
      "execution_count": null,
      "metadata": {
        "colab": {
          "base_uri": "https://localhost:8080/"
        },
        "id": "cxE_Ga8LBgkL",
        "outputId": "81570978-d3a8-4613-d58f-86c7af5d7421"
      },
      "outputs": [
        {
          "output_type": "stream",
          "name": "stderr",
          "text": [
            "100%|██████████| 6999/6999 [03:23<00:00, 34.43it/s]\n"
          ]
        },
        {
          "output_type": "stream",
          "name": "stdout",
          "text": [
            "Epoch 55, loss: 0.3403\n"
          ]
        },
        {
          "output_type": "stream",
          "name": "stderr",
          "text": [
            "100%|██████████| 6999/6999 [03:23<00:00, 34.46it/s]\n"
          ]
        },
        {
          "output_type": "stream",
          "name": "stdout",
          "text": [
            "Epoch 56, loss: 0.3379\n"
          ]
        },
        {
          "output_type": "stream",
          "name": "stderr",
          "text": [
            "100%|██████████| 6999/6999 [03:23<00:00, 34.40it/s]\n"
          ]
        },
        {
          "output_type": "stream",
          "name": "stdout",
          "text": [
            "Epoch 57, loss: 0.3301\n"
          ]
        },
        {
          "output_type": "stream",
          "name": "stderr",
          "text": [
            "100%|██████████| 6999/6999 [03:22<00:00, 34.60it/s]\n"
          ]
        },
        {
          "output_type": "stream",
          "name": "stdout",
          "text": [
            "Epoch 58, loss: 0.3260\n"
          ]
        },
        {
          "output_type": "stream",
          "name": "stderr",
          "text": [
            "100%|██████████| 6999/6999 [03:22<00:00, 34.52it/s]\n"
          ]
        },
        {
          "output_type": "stream",
          "name": "stdout",
          "text": [
            "Epoch 59, loss: 0.3371\n"
          ]
        },
        {
          "output_type": "stream",
          "name": "stderr",
          "text": [
            "100%|██████████| 6999/6999 [03:23<00:00, 34.46it/s]\n"
          ]
        },
        {
          "output_type": "stream",
          "name": "stdout",
          "text": [
            "Epoch 60, loss: 0.3347\n"
          ]
        },
        {
          "output_type": "stream",
          "name": "stderr",
          "text": [
            "100%|██████████| 6999/6999 [03:22<00:00, 34.53it/s]\n"
          ]
        },
        {
          "output_type": "stream",
          "name": "stdout",
          "text": [
            "Epoch 61, loss: 0.3339\n"
          ]
        },
        {
          "output_type": "stream",
          "name": "stderr",
          "text": [
            "100%|██████████| 6999/6999 [03:23<00:00, 34.35it/s]\n"
          ]
        },
        {
          "output_type": "stream",
          "name": "stdout",
          "text": [
            "Epoch 62, loss: 0.3327\n"
          ]
        },
        {
          "output_type": "stream",
          "name": "stderr",
          "text": [
            "100%|██████████| 6999/6999 [03:23<00:00, 34.42it/s]\n"
          ]
        },
        {
          "output_type": "stream",
          "name": "stdout",
          "text": [
            "Epoch 63, loss: 0.3336\n"
          ]
        }
      ],
      "source": [
        "# Assign weight to each EC number\n",
        "\n",
        "ec_number_freq = train_data['ec_number_reduced'].value_counts()\n",
        "ec_number_to_index = {ec_number: idx for idx, ec_number in enumerate(train_data['ec_number_reduced'].unique())}\n",
        "\n",
        "full_weights = torch.ones(len(ec_number_to_index)).float()\n",
        "for ec_number, count in ec_number_freq.items():\n",
        "    if ec_number in ec_number_to_index:\n",
        "        index = ec_number_to_index[ec_number]\n",
        "        full_weights[index] = 1.0 / count\n",
        "full_weights /= full_weights.min()  # Normalize weights\n",
        "\n",
        "weight_tensor = full_weights.to('cuda')\n",
        "\n",
        "loss_function = nn.CrossEntropyLoss(weight=weight_tensor)\n",
        "\n",
        "learning_rate = 0.0001\n",
        "epochs = 100\n",
        "early_stop_count = 5\n",
        "min_loss_improvement = 0.001\n",
        "\n",
        "optimizer = optim.Adam(model.parameters(), lr=learning_rate)\n",
        "losses = []\n",
        "accuracies = []\n",
        "top_5_accuracies = []\n",
        "\n",
        "best_loss = float(\"inf\")\n",
        "no_improvement_count = 0\n",
        "\n",
        "# Load model from checkpoint\n",
        "current_epoch = 55\n",
        "checkpoint = torch.load(f'/content/drive/My Drive/Protein Function ESM/checkpoint_epoch_{current_epoch}.pth')\n",
        "model = MyModel(esm_model, num_classes).to('cuda')\n",
        "model.load_state_dict(checkpoint['state_dict'])\n",
        "optimizer.load_state_dict(checkpoint['optimizer'])\n",
        "\n",
        "for epoch in range(current_epoch, epochs):\n",
        "    model.train()\n",
        "    total_loss = 0\n",
        "    for batch in tqdm.tqdm(train_dataloader):\n",
        "        inputs = torch.tensor(batch[0][\"input_ids\"]).to(\"cuda\")\n",
        "        attention_masks = torch.tensor(batch[0][\"attention_mask\"]).to(\"cuda\")\n",
        "        labels = batch[1].to(\"cuda\")\n",
        "\n",
        "        optimizer.zero_grad()\n",
        "        logits, probs = model(inputs, attention_masks)\n",
        "        loss = loss_function(logits, labels)\n",
        "        loss.backward()\n",
        "        optimizer.step()\n",
        "\n",
        "        total_loss += loss.item()\n",
        "\n",
        "    average_loss = total_loss / len(train_dataloader)\n",
        "    print(f\"Epoch {epoch}, loss: {average_loss:.4f}\")\n",
        "    losses.append(average_loss)\n",
        "\n",
        "    # Accuracy\n",
        "    model.eval()\n",
        "\n",
        "    correct = 0\n",
        "    total = 0\n",
        "    top_5_correct = 0\n",
        "    top_5_total = 0\n",
        "\n",
        "    with torch.no_grad():\n",
        "        for batch in test_dataloader:\n",
        "            inputs = torch.tensor(batch[0][\"input_ids\"]).to(\"cuda\")\n",
        "            attention_masks = torch.tensor(batch[0][\"attention_mask\"]).to(\"cuda\")\n",
        "            labels = batch[1].to(\"cuda\")\n",
        "\n",
        "            # Top-1 Accuracy\n",
        "            logits, probs = model(inputs, attention_masks)\n",
        "            pred_class = probs.argmax(-1).flatten()\n",
        "            labels = labels.argmax(-1).flatten()\n",
        "            correct += (pred_class == labels).sum().item()\n",
        "            total += pred_class.shape[0]\n",
        "\n",
        "            # Top-5 Accuracy\n",
        "            pred_classes = probs.topk(5, dim=1)[1]\n",
        "\n",
        "            for i in range(pred_classes.shape[0]):\n",
        "                if labels[i] in pred_classes[i]:\n",
        "                    top_5_correct += 1\n",
        "                top_5_total += 1\n",
        "\n",
        "    accuracy = correct / total * 100\n",
        "    top_5_accuracy = top_5_correct / top_5_total * 100\n",
        "    accuracies.append(accuracy)\n",
        "    top_5_accuracies.append(accuracy)\n",
        "\n",
        "    if best_loss - average_loss > min_loss_improvement:\n",
        "        best_loss = average_loss\n",
        "        no_improvement_count = 0\n",
        "    else:\n",
        "        no_improvement_count += 1\n",
        "\n",
        "    if no_improvement_count >= early_stop_count:\n",
        "        break\n",
        "\n",
        "    if epoch > 50:\n",
        "        checkpoint = {\n",
        "            \"epoch\": epoch + 1,\n",
        "            \"state_dict\": model.state_dict(),\n",
        "            \"optimizer\": optimizer.state_dict(),\n",
        "            \"loss\": loss.item()\n",
        "        }\n",
        "\n",
        "        torch.save(checkpoint, f\"/content/drive/My Drive/Protein Function ESM/checkpoint_epoch_{epoch+1}.pth\")"
      ]
    },
    {
      "cell_type": "code",
      "execution_count": null,
      "metadata": {
        "id": "McmPapH9-QBp",
        "colab": {
          "base_uri": "https://localhost:8080/"
        },
        "outputId": "2551b664-1307-40e3-deb7-7a404eaed8a0"
      },
      "outputs": [
        {
          "output_type": "stream",
          "name": "stderr",
          "text": [
            "100%|██████████| 1750/1750 [00:51<00:00, 34.29it/s]\n"
          ]
        }
      ],
      "source": [
        "model.eval()\n",
        "\n",
        "correct = 0\n",
        "total = 0\n",
        "\n",
        "top_5_correct = 0\n",
        "top_5_total = 0\n",
        "\n",
        "class_correct = [0] * num_classes\n",
        "class_total = [0] * num_classes\n",
        "\n",
        "with torch.no_grad():\n",
        "    for batch in tqdm.tqdm(test_dataloader):\n",
        "        inputs = torch.tensor(batch[0][\"input_ids\"]).to(\"cuda\")\n",
        "        attention_masks = torch.tensor(batch[0][\"attention_mask\"]).to(\"cuda\")\n",
        "        labels = batch[1].to(\"cuda\")\n",
        "\n",
        "        # Top-1 Accuracy\n",
        "        logits, probs = model(inputs, attention_masks)\n",
        "        pred_class = probs.argmax(-1).flatten()\n",
        "        labels = labels.argmax(-1).flatten()\n",
        "        correct += (pred_class == labels).sum().item()\n",
        "        total += pred_class.shape[0]\n",
        "\n",
        "        # Top-5 Accuracy\n",
        "        pred_classes = probs.topk(5, dim=1)[1]\n",
        "\n",
        "        for i in range(pred_classes.shape[0]):\n",
        "            if labels[i] in pred_classes[i]:\n",
        "                top_5_correct += 1\n",
        "            top_5_total += 1\n",
        "\n",
        "        # Accuracy per class\n",
        "        for i in range(labels.shape[0]):\n",
        "            class_label = labels[i]\n",
        "            class_correct[class_label] += (pred_class[i] == class_label).item()\n",
        "            class_total[class_label] += 1"
      ]
    },
    {
      "cell_type": "code",
      "execution_count": null,
      "metadata": {
        "id": "a0PHTCqecZee",
        "colab": {
          "base_uri": "https://localhost:8080/"
        },
        "outputId": "cc4d5bf6-82e2-4391-b468-0d28881f5c7d"
      },
      "outputs": [
        {
          "output_type": "stream",
          "name": "stdout",
          "text": [
            "Accuracy: 89.4278\n",
            "Top-5 Accuracy: 95.7140\n",
            "Highest Accuracy Label: 5, Accuracy: 100.0000%\n",
            "Lowest Accuracy Label: 7, Accuracy: 0.0000%\n"
          ]
        }
      ],
      "source": [
        "accuracy = correct / total * 100\n",
        "top_5_accuracy = top_5_correct / top_5_total * 100\n",
        "print(f\"Accuracy: {accuracy:.4f}\")\n",
        "print(f\"Top-5 Accuracy: {top_5_accuracy:.4f}\")\n",
        "\n",
        "highest = 0\n",
        "highest_idx = 0\n",
        "for i in range(num_classes):\n",
        "    if class_total[i] != 0:\n",
        "        if class_correct[i] / class_total[i] > highest:\n",
        "            highest = class_correct[i] / class_total[i]\n",
        "            highest_idx = i\n",
        "\n",
        "lowest = float(\"inf\")\n",
        "lowest_idx = 0\n",
        "for i in range(num_classes):\n",
        "    if class_total[i] != 0:\n",
        "        if class_correct[i] / class_total[i] < lowest:\n",
        "            lowest = class_correct[i] / class_total[i]\n",
        "            lowest_idx = i\n",
        "\n",
        "highest_accuracy = highest * 100\n",
        "lowest_accuracy = lowest * 100\n",
        "print(f\"Highest Accuracy Label: {highest_idx}, Accuracy: {highest_accuracy:.4f}%\")\n",
        "print(f\"Lowest Accuracy Label: {lowest_idx}, Accuracy: {lowest_accuracy:.4f}%\")"
      ]
    },
    {
      "cell_type": "code",
      "execution_count": null,
      "metadata": {
        "id": "ZmFqMq0Y2Ork",
        "colab": {
          "base_uri": "https://localhost:8080/",
          "height": 472
        },
        "outputId": "7bd54b7e-4b31-4b2d-f703-f0ffe39bce2f"
      },
      "outputs": [
        {
          "output_type": "display_data",
          "data": {
            "text/plain": [
              "<Figure size 640x480 with 1 Axes>"
            ],
            "image/png": "[encoded data removed]"
          },
          "metadata": {}
        }
      ],
      "source": [
        "import matplotlib.pyplot as plt\n",
        "\n",
        "epochs_lst = list(range(1, len(losses)+1))\n",
        "\n",
        "plt.plot(epochs_lst, losses)\n",
        "plt.title(\"Loss per Epoch\")\n",
        "plt.xlabel(\"Epoch\")\n",
        "plt.ylabel(\"Loss\")\n",
        "plt.grid(True)\n",
        "plt.show()"
      ]
    },
    {
      "cell_type": "code",
      "execution_count": null,
      "metadata": {
        "id": "4w4LQcT6_JkL",
        "colab": {
          "base_uri": "https://localhost:8080/",
          "height": 472
        },
        "outputId": "a2de53cf-1d74-402a-dc16-dbfaa832a24b"
      },
      "outputs": [
        {
          "output_type": "display_data",
          "data": {
            "text/plain": [
              "<Figure size 640x480 with 1 Axes>"
            ],
            "image/png": "[encoded data removed]"
          },
          "metadata": {}
        }
      ],
      "source": [
        "plt.plot(epochs_lst, accuracies)\n",
        "plt.title(\"Accuracy per Epoch\")\n",
        "plt.xlabel(\"Epoch\")\n",
        "plt.ylabel(\"Loss\")\n",
        "plt.grid(True)\n",
        "plt.show()"
      ]
    },
    {
      "cell_type": "code",
      "execution_count": null,
      "metadata": {
        "id": "giX3Es3db5Rk",
        "colab": {
          "base_uri": "https://localhost:8080/"
        },
        "outputId": "4b4a75a6-855d-4e77-8735-96854387bd07"
      },
      "outputs": [
        {
          "output_type": "stream",
          "name": "stdout",
          "text": [
            "3.5.1\n",
            "2.1.1\n",
            "23 1\n",
            "\n",
            "2.1.1 1\n",
            "3.1.1 34\n",
            "3.1.1 3\n"
          ]
        }
      ],
      "source": [
        "print(data[\"ec_number_reduced\"].iloc[highest_idx])\n",
        "print(data[\"ec_number_reduced\"].iloc[lowest_idx])\n",
        "print(class_total[highest_idx], class_total[lowest_idx])\n",
        "print()\n",
        "for i in range(num_classes):\n",
        "    if class_correct[i] == 0 and class_total[i] != 0:\n",
        "        print(data[\"ec_number_reduced\"].iloc[i], class_total[i])"
      ]
    },
    {
      "cell_type": "code",
      "execution_count": null,
      "metadata": {
        "id": "lWZbIEsVb6Ig",
        "colab": {
          "base_uri": "https://localhost:8080/",
          "height": 406
        },
        "outputId": "9620af3d-cd77-4b20-a632-8e80be5d52e4"
      },
      "outputs": [
        {
          "output_type": "display_data",
          "data": {
            "text/plain": [
              "<Figure size 640x480 with 1 Axes>"
            ],
            "image/png": "[encoded data removed]"
          },
          "metadata": {}
        }
      ],
      "source": [
        "class_accuracies = [0] * num_classes\n",
        "for i in range(num_classes):\n",
        "    if class_total[i] == 0:\n",
        "        class_accuracies[i] = -1\n",
        "    else:\n",
        "        class_accuracies[i] = class_correct[i] / class_total[i]\n",
        "\n",
        "class_accuracies.sort()\n",
        "class_accuracies = [x for x in class_accuracies if x != -1]\n",
        "\n",
        "plt.boxplot(class_accuracies)\n",
        "plt.xticks([])\n",
        "plt.ylabel(\"Accuracy\")\n",
        "plt.show()"
      ]
    },
    {
      "cell_type": "code",
      "execution_count": null,
      "metadata": {
        "id": "NIxv_7MlpXT9",
        "colab": {
          "base_uri": "https://localhost:8080/"
        },
        "outputId": "db149bbf-c2d8-452b-e75e-3bbaf7090783"
      },
      "outputs": [
        {
          "output_type": "stream",
          "name": "stdout",
          "text": [
            "Outliers: [0.0, 0.0, 0.0, 0.024793388429752067, 0.16666666666666666]\n"
          ]
        }
      ],
      "source": [
        "import numpy as np\n",
        "\n",
        "Q1 = np.percentile(class_accuracies, 25)\n",
        "Q3 = np.percentile(class_accuracies, 75)\n",
        "IQR = Q3 - Q1\n",
        "\n",
        "lower_bound = Q1 - 1.5 * IQR\n",
        "upper_bound = Q3 + 1.5 * IQR\n",
        "\n",
        "outliers = [x for x in class_accuracies if x < lower_bound or x > upper_bound]\n",
        "\n",
        "print(\"Outliers:\", outliers)"
      ]
    }
  ],
  "metadata": {
    "accelerator": "GPU",
    "colab": {
      "gpuType": "T4",
      "provenance": []
    },
    "kernelspec": {
      "display_name": "Python 3",
      "name": "python3"
    },
    "language_info": {
      "name": "python"
    },
    "widgets": {
      "application/vnd.jupyter.widget-state+json": {
        "26e632d92a684fc8aa5ad74f06a708b7": {
          "model_module": "@jupyter-widgets/controls",
          "model_name": "HBoxModel",
          "model_module_version": "1.5.0",
          "state": {
            "_dom_classes": [],
            "_model_module": "@jupyter-widgets/controls",
            "_model_module_version": "1.5.0",
            "_model_name": "HBoxModel",
            "_view_count": null,
            "_view_module": "@jupyter-widgets/controls",
            "_view_module_version": "1.5.0",
            "_view_name": "HBoxView",
            "box_style": "",
            "children": [
              "IPY_MODEL_8fd8cc91ff4a4afabe47255878a65a7b",
              "IPY_MODEL_b7a27a4d5a6144cfba29b93454411791",
              "IPY_MODEL_8f77a9e1723d4468be569e422a5496c6"
            ],
            "layout": "IPY_MODEL_1eb48d7dbaab40e69e354f00045f4327"
          }
        },
        "8fd8cc91ff4a4afabe47255878a65a7b": {
          "model_module": "@jupyter-widgets/controls",
          "model_name": "HTMLModel",
          "model_module_version": "1.5.0",
          "state": {
            "_dom_classes": [],
            "_model_module": "@jupyter-widgets/controls",
            "_model_module_version": "1.5.0",
            "_model_name": "HTMLModel",
            "_view_count": null,
            "_view_module": "@jupyter-widgets/controls",
            "_view_module_version": "1.5.0",
            "_view_name": "HTMLView",
            "description": "",
            "description_tooltip": null,
            "layout": "IPY_MODEL_3b98eb5236ab411ca2eb990a2db83b1d",
            "placeholder": "​",
            "style": "IPY_MODEL_f3701bd6d2194a7c96f99d9c65a5f03b",
            "value": "tokenizer_config.json: 100%"
          }
        },
        "b7a27a4d5a6144cfba29b93454411791": {
          "model_module": "@jupyter-widgets/controls",
          "model_name": "FloatProgressModel",
          "model_module_version": "1.5.0",
          "state": {
            "_dom_classes": [],
            "_model_module": "@jupyter-widgets/controls",
            "_model_module_version": "1.5.0",
            "_model_name": "FloatProgressModel",
            "_view_count": null,
            "_view_module": "@jupyter-widgets/controls",
            "_view_module_version": "1.5.0",
            "_view_name": "ProgressView",
            "bar_style": "success",
            "description": "",
            "description_tooltip": null,
            "layout": "IPY_MODEL_b82489d588ce4073a70b2e898b38efea",
            "max": 95,
            "min": 0,
            "orientation": "horizontal",
            "style": "IPY_MODEL_cc51434c07214399ab7bbb55000531fd",
            "value": 95
          }
        },
        "8f77a9e1723d4468be569e422a5496c6": {
          "model_module": "@jupyter-widgets/controls",
          "model_name": "HTMLModel",
          "model_module_version": "1.5.0",
          "state": {
            "_dom_classes": [],
            "_model_module": "@jupyter-widgets/controls",
            "_model_module_version": "1.5.0",
            "_model_name": "HTMLModel",
            "_view_count": null,
            "_view_module": "@jupyter-widgets/controls",
            "_view_module_version": "1.5.0",
            "_view_name": "HTMLView",
            "description": "",
            "description_tooltip": null,
            "layout": "IPY_MODEL_defdc061f1424c9ea98ec7dba185796a",
            "placeholder": "​",
            "style": "IPY_MODEL_6654c682a9014d0b95c7d17a1256e251",
            "value": " 95.0/95.0 [00:00&lt;00:00, 5.99kB/s]"
          }
        },
        "1eb48d7dbaab40e69e354f00045f4327": {
          "model_module": "@jupyter-widgets/base",
          "model_name": "LayoutModel",
          "model_module_version": "1.2.0",
          "state": {
            "_model_module": "@jupyter-widgets/base",
            "_model_module_version": "1.2.0",
            "_model_name": "LayoutModel",
            "_view_count": null,
            "_view_module": "@jupyter-widgets/base",
            "_view_module_version": "1.2.0",
            "_view_name": "LayoutView",
            "align_content": null,
            "align_items": null,
            "align_self": null,
            "border": null,
            "bottom": null,
            "display": null,
            "flex": null,
            "flex_flow": null,
            "grid_area": null,
            "grid_auto_columns": null,
            "grid_auto_flow": null,
            "grid_auto_rows": null,
            "grid_column": null,
            "grid_gap": null,
            "grid_row": null,
            "grid_template_areas": null,
            "grid_template_columns": null,
            "grid_template_rows": null,
            "height": null,
            "justify_content": null,
            "justify_items": null,
            "left": null,
            "margin": null,
            "max_height": null,
            "max_width": null,
            "min_height": null,
            "min_width": null,
            "object_fit": null,
            "object_position": null,
            "order": null,
            "overflow": null,
            "overflow_x": null,
            "overflow_y": null,
            "padding": null,
            "right": null,
            "top": null,
            "visibility": null,
            "width": null
          }
        },
        "3b98eb5236ab411ca2eb990a2db83b1d": {
          "model_module": "@jupyter-widgets/base",
          "model_name": "LayoutModel",
          "model_module_version": "1.2.0",
          "state": {
            "_model_module": "@jupyter-widgets/base",
            "_model_module_version": "1.2.0",
            "_model_name": "LayoutModel",
            "_view_count": null,
            "_view_module": "@jupyter-widgets/base",
            "_view_module_version": "1.2.0",
            "_view_name": "LayoutView",
            "align_content": null,
            "align_items": null,
            "align_self": null,
            "border": null,
            "bottom": null,
            "display": null,
            "flex": null,
            "flex_flow": null,
            "grid_area": null,
            "grid_auto_columns": null,
            "grid_auto_flow": null,
            "grid_auto_rows": null,
            "grid_column": null,
            "grid_gap": null,
            "grid_row": null,
            "grid_template_areas": null,
            "grid_template_columns": null,
            "grid_template_rows": null,
            "height": null,
            "justify_content": null,
            "justify_items": null,
            "left": null,
            "margin": null,
            "max_height": null,
            "max_width": null,
            "min_height": null,
            "min_width": null,
            "object_fit": null,
            "object_position": null,
            "order": null,
            "overflow": null,
            "overflow_x": null,
            "overflow_y": null,
            "padding": null,
            "right": null,
            "top": null,
            "visibility": null,
            "width": null
          }
        },
        "f3701bd6d2194a7c96f99d9c65a5f03b": {
          "model_module": "@jupyter-widgets/controls",
          "model_name": "DescriptionStyleModel",
          "model_module_version": "1.5.0",
          "state": {
            "_model_module": "@jupyter-widgets/controls",
            "_model_module_version": "1.5.0",
            "_model_name": "DescriptionStyleModel",
            "_view_count": null,
            "_view_module": "@jupyter-widgets/base",
            "_view_module_version": "1.2.0",
            "_view_name": "StyleView",
            "description_width": ""
          }
        },
        "b82489d588ce4073a70b2e898b38efea": {
          "model_module": "@jupyter-widgets/base",
          "model_name": "LayoutModel",
          "model_module_version": "1.2.0",
          "state": {
            "_model_module": "@jupyter-widgets/base",
            "_model_module_version": "1.2.0",
            "_model_name": "LayoutModel",
            "_view_count": null,
            "_view_module": "@jupyter-widgets/base",
            "_view_module_version": "1.2.0",
            "_view_name": "LayoutView",
            "align_content": null,
            "align_items": null,
            "align_self": null,
            "border": null,
            "bottom": null,
            "display": null,
            "flex": null,
            "flex_flow": null,
            "grid_area": null,
            "grid_auto_columns": null,
            "grid_auto_flow": null,
            "grid_auto_rows": null,
            "grid_column": null,
            "grid_gap": null,
            "grid_row": null,
            "grid_template_areas": null,
            "grid_template_columns": null,
            "grid_template_rows": null,
            "height": null,
            "justify_content": null,
            "justify_items": null,
            "left": null,
            "margin": null,
            "max_height": null,
            "max_width": null,
            "min_height": null,
            "min_width": null,
            "object_fit": null,
            "object_position": null,
            "order": null,
            "overflow": null,
            "overflow_x": null,
            "overflow_y": null,
            "padding": null,
            "right": null,
            "top": null,
            "visibility": null,
            "width": null
          }
        },
        "cc51434c07214399ab7bbb55000531fd": {
          "model_module": "@jupyter-widgets/controls",
          "model_name": "ProgressStyleModel",
          "model_module_version": "1.5.0",
          "state": {
            "_model_module": "@jupyter-widgets/controls",
            "_model_module_version": "1.5.0",
            "_model_name": "ProgressStyleModel",
            "_view_count": null,
            "_view_module": "@jupyter-widgets/base",
            "_view_module_version": "1.2.0",
            "_view_name": "StyleView",
            "bar_color": null,
            "description_width": ""
          }
        },
        "defdc061f1424c9ea98ec7dba185796a": {
          "model_module": "@jupyter-widgets/base",
          "model_name": "LayoutModel",
          "model_module_version": "1.2.0",
          "state": {
            "_model_module": "@jupyter-widgets/base",
            "_model_module_version": "1.2.0",
            "_model_name": "LayoutModel",
            "_view_count": null,
            "_view_module": "@jupyter-widgets/base",
            "_view_module_version": "1.2.0",
            "_view_name": "LayoutView",
            "align_content": null,
            "align_items": null,
            "align_self": null,
            "border": null,
            "bottom": null,
            "display": null,
            "flex": null,
            "flex_flow": null,
            "grid_area": null,
            "grid_auto_columns": null,
            "grid_auto_flow": null,
            "grid_auto_rows": null,
            "grid_column": null,
            "grid_gap": null,
            "grid_row": null,
            "grid_template_areas": null,
            "grid_template_columns": null,
            "grid_template_rows": null,
            "height": null,
            "justify_content": null,
            "justify_items": null,
            "left": null,
            "margin": null,
            "max_height": null,
            "max_width": null,
            "min_height": null,
            "min_width": null,
            "object_fit": null,
            "object_position": null,
            "order": null,
            "overflow": null,
            "overflow_x": null,
            "overflow_y": null,
            "padding": null,
            "right": null,
            "top": null,
            "visibility": null,
            "width": null
          }
        },
        "6654c682a9014d0b95c7d17a1256e251": {
          "model_module": "@jupyter-widgets/controls",
          "model_name": "DescriptionStyleModel",
          "model_module_version": "1.5.0",
          "state": {
            "_model_module": "@jupyter-widgets/controls",
            "_model_module_version": "1.5.0",
            "_model_name": "DescriptionStyleModel",
            "_view_count": null,
            "_view_module": "@jupyter-widgets/base",
            "_view_module_version": "1.2.0",
            "_view_name": "StyleView",
            "description_width": ""
          }
        },
        "ef88036d98a841ce993a8a5028f60d65": {
          "model_module": "@jupyter-widgets/controls",
          "model_name": "HBoxModel",
          "model_module_version": "1.5.0",
          "state": {
            "_dom_classes": [],
            "_model_module": "@jupyter-widgets/controls",
            "_model_module_version": "1.5.0",
            "_model_name": "HBoxModel",
            "_view_count": null,
            "_view_module": "@jupyter-widgets/controls",
            "_view_module_version": "1.5.0",
            "_view_name": "HBoxView",
            "box_style": "",
            "children": [
              "IPY_MODEL_4c1af42af79f4e62a0812de0d4a9b12a",
              "IPY_MODEL_2cbbf5e9842e4b60bdff6555aa08de76",
              "IPY_MODEL_52c74f433ce14530b6e655fb9194f3e2"
            ],
            "layout": "IPY_MODEL_1001881043754337aab0e9b1072f9a14"
          }
        },
        "4c1af42af79f4e62a0812de0d4a9b12a": {
          "model_module": "@jupyter-widgets/controls",
          "model_name": "HTMLModel",
          "model_module_version": "1.5.0",
          "state": {
            "_dom_classes": [],
            "_model_module": "@jupyter-widgets/controls",
            "_model_module_version": "1.5.0",
            "_model_name": "HTMLModel",
            "_view_count": null,
            "_view_module": "@jupyter-widgets/controls",
            "_view_module_version": "1.5.0",
            "_view_name": "HTMLView",
            "description": "",
            "description_tooltip": null,
            "layout": "IPY_MODEL_8383be74f5dc453eb6c043aacceedec8",
            "placeholder": "​",
            "style": "IPY_MODEL_a141b2ff6e31442a8c610d43dddaa661",
            "value": "vocab.txt: 100%"
          }
        },
        "2cbbf5e9842e4b60bdff6555aa08de76": {
          "model_module": "@jupyter-widgets/controls",
          "model_name": "FloatProgressModel",
          "model_module_version": "1.5.0",
          "state": {
            "_dom_classes": [],
            "_model_module": "@jupyter-widgets/controls",
            "_model_module_version": "1.5.0",
            "_model_name": "FloatProgressModel",
            "_view_count": null,
            "_view_module": "@jupyter-widgets/controls",
            "_view_module_version": "1.5.0",
            "_view_name": "ProgressView",
            "bar_style": "success",
            "description": "",
            "description_tooltip": null,
            "layout": "IPY_MODEL_c33f24a3cebd407d9477dd435bde013e",
            "max": 93,
            "min": 0,
            "orientation": "horizontal",
            "style": "IPY_MODEL_8dbcf9c0dd114ca698ba2db7260413b2",
            "value": 93
          }
        },
        "52c74f433ce14530b6e655fb9194f3e2": {
          "model_module": "@jupyter-widgets/controls",
          "model_name": "HTMLModel",
          "model_module_version": "1.5.0",
          "state": {
            "_dom_classes": [],
            "_model_module": "@jupyter-widgets/controls",
            "_model_module_version": "1.5.0",
            "_model_name": "HTMLModel",
            "_view_count": null,
            "_view_module": "@jupyter-widgets/controls",
            "_view_module_version": "1.5.0",
            "_view_name": "HTMLView",
            "description": "",
            "description_tooltip": null,
            "layout": "IPY_MODEL_5206d576dfa24dabb733bc8a584c9dd7",
            "placeholder": "​",
            "style": "IPY_MODEL_0d6d028f4c2149b4b8d4b28ede7da953",
            "value": " 93.0/93.0 [00:00&lt;00:00, 7.09kB/s]"
          }
        },
        "1001881043754337aab0e9b1072f9a14": {
          "model_module": "@jupyter-widgets/base",
          "model_name": "LayoutModel",
          "model_module_version": "1.2.0",
          "state": {
            "_model_module": "@jupyter-widgets/base",
            "_model_module_version": "1.2.0",
            "_model_name": "LayoutModel",
            "_view_count": null,
            "_view_module": "@jupyter-widgets/base",
            "_view_module_version": "1.2.0",
            "_view_name": "LayoutView",
            "align_content": null,
            "align_items": null,
            "align_self": null,
            "border": null,
            "bottom": null,
            "display": null,
            "flex": null,
            "flex_flow": null,
            "grid_area": null,
            "grid_auto_columns": null,
            "grid_auto_flow": null,
            "grid_auto_rows": null,
            "grid_column": null,
            "grid_gap": null,
            "grid_row": null,
            "grid_template_areas": null,
            "grid_template_columns": null,
            "grid_template_rows": null,
            "height": null,
            "justify_content": null,
            "justify_items": null,
            "left": null,
            "margin": null,
            "max_height": null,
            "max_width": null,
            "min_height": null,
            "min_width": null,
            "object_fit": null,
            "object_position": null,
            "order": null,
            "overflow": null,
            "overflow_x": null,
            "overflow_y": null,
            "padding": null,
            "right": null,
            "top": null,
            "visibility": null,
            "width": null
          }
        },
        "8383be74f5dc453eb6c043aacceedec8": {
          "model_module": "@jupyter-widgets/base",
          "model_name": "LayoutModel",
          "model_module_version": "1.2.0",
          "state": {
            "_model_module": "@jupyter-widgets/base",
            "_model_module_version": "1.2.0",
            "_model_name": "LayoutModel",
            "_view_count": null,
            "_view_module": "@jupyter-widgets/base",
            "_view_module_version": "1.2.0",
            "_view_name": "LayoutView",
            "align_content": null,
            "align_items": null,
            "align_self": null,
            "border": null,
            "bottom": null,
            "display": null,
            "flex": null,
            "flex_flow": null,
            "grid_area": null,
            "grid_auto_columns": null,
            "grid_auto_flow": null,
            "grid_auto_rows": null,
            "grid_column": null,
            "grid_gap": null,
            "grid_row": null,
            "grid_template_areas": null,
            "grid_template_columns": null,
            "grid_template_rows": null,
            "height": null,
            "justify_content": null,
            "justify_items": null,
            "left": null,
            "margin": null,
            "max_height": null,
            "max_width": null,
            "min_height": null,
            "min_width": null,
            "object_fit": null,
            "object_position": null,
            "order": null,
            "overflow": null,
            "overflow_x": null,
            "overflow_y": null,
            "padding": null,
            "right": null,
            "top": null,
            "visibility": null,
            "width": null
          }
        },
        "a141b2ff6e31442a8c610d43dddaa661": {
          "model_module": "@jupyter-widgets/controls",
          "model_name": "DescriptionStyleModel",
          "model_module_version": "1.5.0",
          "state": {
            "_model_module": "@jupyter-widgets/controls",
            "_model_module_version": "1.5.0",
            "_model_name": "DescriptionStyleModel",
            "_view_count": null,
            "_view_module": "@jupyter-widgets/base",
            "_view_module_version": "1.2.0",
            "_view_name": "StyleView",
            "description_width": ""
          }
        },
        "c33f24a3cebd407d9477dd435bde013e": {
          "model_module": "@jupyter-widgets/base",
          "model_name": "LayoutModel",
          "model_module_version": "1.2.0",
          "state": {
            "_model_module": "@jupyter-widgets/base",
            "_model_module_version": "1.2.0",
            "_model_name": "LayoutModel",
            "_view_count": null,
            "_view_module": "@jupyter-widgets/base",
            "_view_module_version": "1.2.0",
            "_view_name": "LayoutView",
            "align_content": null,
            "align_items": null,
            "align_self": null,
            "border": null,
            "bottom": null,
            "display": null,
            "flex": null,
            "flex_flow": null,
            "grid_area": null,
            "grid_auto_columns": null,
            "grid_auto_flow": null,
            "grid_auto_rows": null,
            "grid_column": null,
            "grid_gap": null,
            "grid_row": null,
            "grid_template_areas": null,
            "grid_template_columns": null,
            "grid_template_rows": null,
            "height": null,
            "justify_content": null,
            "justify_items": null,
            "left": null,
            "margin": null,
            "max_height": null,
            "max_width": null,
            "min_height": null,
            "min_width": null,
            "object_fit": null,
            "object_position": null,
            "order": null,
            "overflow": null,
            "overflow_x": null,
            "overflow_y": null,
            "padding": null,
            "right": null,
            "top": null,
            "visibility": null,
            "width": null
          }
        },
        "8dbcf9c0dd114ca698ba2db7260413b2": {
          "model_module": "@jupyter-widgets/controls",
          "model_name": "ProgressStyleModel",
          "model_module_version": "1.5.0",
          "state": {
            "_model_module": "@jupyter-widgets/controls",
            "_model_module_version": "1.5.0",
            "_model_name": "ProgressStyleModel",
            "_view_count": null,
            "_view_module": "@jupyter-widgets/base",
            "_view_module_version": "1.2.0",
            "_view_name": "StyleView",
            "bar_color": null,
            "description_width": ""
          }
        },
        "5206d576dfa24dabb733bc8a584c9dd7": {
          "model_module": "@jupyter-widgets/base",
          "model_name": "LayoutModel",
          "model_module_version": "1.2.0",
          "state": {
            "_model_module": "@jupyter-widgets/base",
            "_model_module_version": "1.2.0",
            "_model_name": "LayoutModel",
            "_view_count": null,
            "_view_module": "@jupyter-widgets/base",
            "_view_module_version": "1.2.0",
            "_view_name": "LayoutView",
            "align_content": null,
            "align_items": null,
            "align_self": null,
            "border": null,
            "bottom": null,
            "display": null,
            "flex": null,
            "flex_flow": null,
            "grid_area": null,
            "grid_auto_columns": null,
            "grid_auto_flow": null,
            "grid_auto_rows": null,
            "grid_column": null,
            "grid_gap": null,
            "grid_row": null,
            "grid_template_areas": null,
            "grid_template_columns": null,
            "grid_template_rows": null,
            "height": null,
            "justify_content": null,
            "justify_items": null,
            "left": null,
            "margin": null,
            "max_height": null,
            "max_width": null,
            "min_height": null,
            "min_width": null,
            "object_fit": null,
            "object_position": null,
            "order": null,
            "overflow": null,
            "overflow_x": null,
            "overflow_y": null,
            "padding": null,
            "right": null,
            "top": null,
            "visibility": null,
            "width": null
          }
        },
        "0d6d028f4c2149b4b8d4b28ede7da953": {
          "model_module": "@jupyter-widgets/controls",
          "model_name": "DescriptionStyleModel",
          "model_module_version": "1.5.0",
          "state": {
            "_model_module": "@jupyter-widgets/controls",
            "_model_module_version": "1.5.0",
            "_model_name": "DescriptionStyleModel",
            "_view_count": null,
            "_view_module": "@jupyter-widgets/base",
            "_view_module_version": "1.2.0",
            "_view_name": "StyleView",
            "description_width": ""
          }
        },
        "c7667a03fd7f4f079f88a8e11d749a37": {
          "model_module": "@jupyter-widgets/controls",
          "model_name": "HBoxModel",
          "model_module_version": "1.5.0",
          "state": {
            "_dom_classes": [],
            "_model_module": "@jupyter-widgets/controls",
            "_model_module_version": "1.5.0",
            "_model_name": "HBoxModel",
            "_view_count": null,
            "_view_module": "@jupyter-widgets/controls",
            "_view_module_version": "1.5.0",
            "_view_name": "HBoxView",
            "box_style": "",
            "children": [
              "IPY_MODEL_751ecc1e1fa04e08a4cb4da9e69738d6",
              "IPY_MODEL_baaa3153f93941a98584500b289a7d07",
              "IPY_MODEL_e3bd1b0f45214c2a8753035fe2d065fe"
            ],
            "layout": "IPY_MODEL_4e755d395c2c4561823aa87758967e40"
          }
        },
        "751ecc1e1fa04e08a4cb4da9e69738d6": {
          "model_module": "@jupyter-widgets/controls",
          "model_name": "HTMLModel",
          "model_module_version": "1.5.0",
          "state": {
            "_dom_classes": [],
            "_model_module": "@jupyter-widgets/controls",
            "_model_module_version": "1.5.0",
            "_model_name": "HTMLModel",
            "_view_count": null,
            "_view_module": "@jupyter-widgets/controls",
            "_view_module_version": "1.5.0",
            "_view_name": "HTMLView",
            "description": "",
            "description_tooltip": null,
            "layout": "IPY_MODEL_997341af6c2849d494732e8a9ccc105e",
            "placeholder": "​",
            "style": "IPY_MODEL_709ea885dff141c8a5117a2445e93814",
            "value": "special_tokens_map.json: 100%"
          }
        },
        "baaa3153f93941a98584500b289a7d07": {
          "model_module": "@jupyter-widgets/controls",
          "model_name": "FloatProgressModel",
          "model_module_version": "1.5.0",
          "state": {
            "_dom_classes": [],
            "_model_module": "@jupyter-widgets/controls",
            "_model_module_version": "1.5.0",
            "_model_name": "FloatProgressModel",
            "_view_count": null,
            "_view_module": "@jupyter-widgets/controls",
            "_view_module_version": "1.5.0",
            "_view_name": "ProgressView",
            "bar_style": "success",
            "description": "",
            "description_tooltip": null,
            "layout": "IPY_MODEL_15749782742b4cf9b8e2defc04c48e45",
            "max": 125,
            "min": 0,
            "orientation": "horizontal",
            "style": "IPY_MODEL_b243c79d97c140a3b6902787fed4c25c",
            "value": 125
          }
        },
        "e3bd1b0f45214c2a8753035fe2d065fe": {
          "model_module": "@jupyter-widgets/controls",
          "model_name": "HTMLModel",
          "model_module_version": "1.5.0",
          "state": {
            "_dom_classes": [],
            "_model_module": "@jupyter-widgets/controls",
            "_model_module_version": "1.5.0",
            "_model_name": "HTMLModel",
            "_view_count": null,
            "_view_module": "@jupyter-widgets/controls",
            "_view_module_version": "1.5.0",
            "_view_name": "HTMLView",
            "description": "",
            "description_tooltip": null,
            "layout": "IPY_MODEL_2fc3f74ce5f74c2386e6e43fcca58a3d",
            "placeholder": "​",
            "style": "IPY_MODEL_40c4695d57274b92b83b87fe57feba33",
            "value": " 125/125 [00:00&lt;00:00, 7.60kB/s]"
          }
        },
        "4e755d395c2c4561823aa87758967e40": {
          "model_module": "@jupyter-widgets/base",
          "model_name": "LayoutModel",
          "model_module_version": "1.2.0",
          "state": {
            "_model_module": "@jupyter-widgets/base",
            "_model_module_version": "1.2.0",
            "_model_name": "LayoutModel",
            "_view_count": null,
            "_view_module": "@jupyter-widgets/base",
            "_view_module_version": "1.2.0",
            "_view_name": "LayoutView",
            "align_content": null,
            "align_items": null,
            "align_self": null,
            "border": null,
            "bottom": null,
            "display": null,
            "flex": null,
            "flex_flow": null,
            "grid_area": null,
            "grid_auto_columns": null,
            "grid_auto_flow": null,
            "grid_auto_rows": null,
            "grid_column": null,
            "grid_gap": null,
            "grid_row": null,
            "grid_template_areas": null,
            "grid_template_columns": null,
            "grid_template_rows": null,
            "height": null,
            "justify_content": null,
            "justify_items": null,
            "left": null,
            "margin": null,
            "max_height": null,
            "max_width": null,
            "min_height": null,
            "min_width": null,
            "object_fit": null,
            "object_position": null,
            "order": null,
            "overflow": null,
            "overflow_x": null,
            "overflow_y": null,
            "padding": null,
            "right": null,
            "top": null,
            "visibility": null,
            "width": null
          }
        },
        "997341af6c2849d494732e8a9ccc105e": {
          "model_module": "@jupyter-widgets/base",
          "model_name": "LayoutModel",
          "model_module_version": "1.2.0",
          "state": {
            "_model_module": "@jupyter-widgets/base",
            "_model_module_version": "1.2.0",
            "_model_name": "LayoutModel",
            "_view_count": null,
            "_view_module": "@jupyter-widgets/base",
            "_view_module_version": "1.2.0",
            "_view_name": "LayoutView",
            "align_content": null,
            "align_items": null,
            "align_self": null,
            "border": null,
            "bottom": null,
            "display": null,
            "flex": null,
            "flex_flow": null,
            "grid_area": null,
            "grid_auto_columns": null,
            "grid_auto_flow": null,
            "grid_auto_rows": null,
            "grid_column": null,
            "grid_gap": null,
            "grid_row": null,
            "grid_template_areas": null,
            "grid_template_columns": null,
            "grid_template_rows": null,
            "height": null,
            "justify_content": null,
            "justify_items": null,
            "left": null,
            "margin": null,
            "max_height": null,
            "max_width": null,
            "min_height": null,
            "min_width": null,
            "object_fit": null,
            "object_position": null,
            "order": null,
            "overflow": null,
            "overflow_x": null,
            "overflow_y": null,
            "padding": null,
            "right": null,
            "top": null,
            "visibility": null,
            "width": null
          }
        },
        "709ea885dff141c8a5117a2445e93814": {
          "model_module": "@jupyter-widgets/controls",
          "model_name": "DescriptionStyleModel",
          "model_module_version": "1.5.0",
          "state": {
            "_model_module": "@jupyter-widgets/controls",
            "_model_module_version": "1.5.0",
            "_model_name": "DescriptionStyleModel",
            "_view_count": null,
            "_view_module": "@jupyter-widgets/base",
            "_view_module_version": "1.2.0",
            "_view_name": "StyleView",
            "description_width": ""
          }
        },
        "15749782742b4cf9b8e2defc04c48e45": {
          "model_module": "@jupyter-widgets/base",
          "model_name": "LayoutModel",
          "model_module_version": "1.2.0",
          "state": {
            "_model_module": "@jupyter-widgets/base",
            "_model_module_version": "1.2.0",
            "_model_name": "LayoutModel",
            "_view_count": null,
            "_view_module": "@jupyter-widgets/base",
            "_view_module_version": "1.2.0",
            "_view_name": "LayoutView",
            "align_content": null,
            "align_items": null,
            "align_self": null,
            "border": null,
            "bottom": null,
            "display": null,
            "flex": null,
            "flex_flow": null,
            "grid_area": null,
            "grid_auto_columns": null,
            "grid_auto_flow": null,
            "grid_auto_rows": null,
            "grid_column": null,
            "grid_gap": null,
            "grid_row": null,
            "grid_template_areas": null,
            "grid_template_columns": null,
            "grid_template_rows": null,
            "height": null,
            "justify_content": null,
            "justify_items": null,
            "left": null,
            "margin": null,
            "max_height": null,
            "max_width": null,
            "min_height": null,
            "min_width": null,
            "object_fit": null,
            "object_position": null,
            "order": null,
            "overflow": null,
            "overflow_x": null,
            "overflow_y": null,
            "padding": null,
            "right": null,
            "top": null,
            "visibility": null,
            "width": null
          }
        },
        "b243c79d97c140a3b6902787fed4c25c": {
          "model_module": "@jupyter-widgets/controls",
          "model_name": "ProgressStyleModel",
          "model_module_version": "1.5.0",
          "state": {
            "_model_module": "@jupyter-widgets/controls",
            "_model_module_version": "1.5.0",
            "_model_name": "ProgressStyleModel",
            "_view_count": null,
            "_view_module": "@jupyter-widgets/base",
            "_view_module_version": "1.2.0",
            "_view_name": "StyleView",
            "bar_color": null,
            "description_width": ""
          }
        },
        "2fc3f74ce5f74c2386e6e43fcca58a3d": {
          "model_module": "@jupyter-widgets/base",
          "model_name": "LayoutModel",
          "model_module_version": "1.2.0",
          "state": {
            "_model_module": "@jupyter-widgets/base",
            "_model_module_version": "1.2.0",
            "_model_name": "LayoutModel",
            "_view_count": null,
            "_view_module": "@jupyter-widgets/base",
            "_view_module_version": "1.2.0",
            "_view_name": "LayoutView",
            "align_content": null,
            "align_items": null,
            "align_self": null,
            "border": null,
            "bottom": null,
            "display": null,
            "flex": null,
            "flex_flow": null,
            "grid_area": null,
            "grid_auto_columns": null,
            "grid_auto_flow": null,
            "grid_auto_rows": null,
            "grid_column": null,
            "grid_gap": null,
            "grid_row": null,
            "grid_template_areas": null,
            "grid_template_columns": null,
            "grid_template_rows": null,
            "height": null,
            "justify_content": null,
            "justify_items": null,
            "left": null,
            "margin": null,
            "max_height": null,
            "max_width": null,
            "min_height": null,
            "min_width": null,
            "object_fit": null,
            "object_position": null,
            "order": null,
            "overflow": null,
            "overflow_x": null,
            "overflow_y": null,
            "padding": null,
            "right": null,
            "top": null,
            "visibility": null,
            "width": null
          }
        },
        "40c4695d57274b92b83b87fe57feba33": {
          "model_module": "@jupyter-widgets/controls",
          "model_name": "DescriptionStyleModel",
          "model_module_version": "1.5.0",
          "state": {
            "_model_module": "@jupyter-widgets/controls",
            "_model_module_version": "1.5.0",
            "_model_name": "DescriptionStyleModel",
            "_view_count": null,
            "_view_module": "@jupyter-widgets/base",
            "_view_module_version": "1.2.0",
            "_view_name": "StyleView",
            "description_width": ""
          }
        },
        "3cc070846bc8473c87dbda68d62af0f3": {
          "model_module": "@jupyter-widgets/controls",
          "model_name": "HBoxModel",
          "model_module_version": "1.5.0",
          "state": {
            "_dom_classes": [],
            "_model_module": "@jupyter-widgets/controls",
            "_model_module_version": "1.5.0",
            "_model_name": "HBoxModel",
            "_view_count": null,
            "_view_module": "@jupyter-widgets/controls",
            "_view_module_version": "1.5.0",
            "_view_name": "HBoxView",
            "box_style": "",
            "children": [
              "IPY_MODEL_859b0ac09c20455f91edaff5ede524cd",
              "IPY_MODEL_4f56fb552a6949b4a55eae184899860f",
              "IPY_MODEL_bd21c08fe018408eb904b86fca821484"
            ],
            "layout": "IPY_MODEL_df68012ddabf4d75922b73d774c4fca2"
          }
        },
        "859b0ac09c20455f91edaff5ede524cd": {
          "model_module": "@jupyter-widgets/controls",
          "model_name": "HTMLModel",
          "model_module_version": "1.5.0",
          "state": {
            "_dom_classes": [],
            "_model_module": "@jupyter-widgets/controls",
            "_model_module_version": "1.5.0",
            "_model_name": "HTMLModel",
            "_view_count": null,
            "_view_module": "@jupyter-widgets/controls",
            "_view_module_version": "1.5.0",
            "_view_name": "HTMLView",
            "description": "",
            "description_tooltip": null,
            "layout": "IPY_MODEL_340731cb2ca647d497c740c6ffde87c7",
            "placeholder": "​",
            "style": "IPY_MODEL_ed809489eeb74aba9b1ef931b7098a8a",
            "value": "config.json: 100%"
          }
        },
        "4f56fb552a6949b4a55eae184899860f": {
          "model_module": "@jupyter-widgets/controls",
          "model_name": "FloatProgressModel",
          "model_module_version": "1.5.0",
          "state": {
            "_dom_classes": [],
            "_model_module": "@jupyter-widgets/controls",
            "_model_module_version": "1.5.0",
            "_model_name": "FloatProgressModel",
            "_view_count": null,
            "_view_module": "@jupyter-widgets/controls",
            "_view_module_version": "1.5.0",
            "_view_name": "ProgressView",
            "bar_style": "success",
            "description": "",
            "description_tooltip": null,
            "layout": "IPY_MODEL_ac9a251df5314565b0c959fd47715214",
            "max": 775,
            "min": 0,
            "orientation": "horizontal",
            "style": "IPY_MODEL_5530257c6c2d4fc8b9112d0815e91c89",
            "value": 775
          }
        },
        "bd21c08fe018408eb904b86fca821484": {
          "model_module": "@jupyter-widgets/controls",
          "model_name": "HTMLModel",
          "model_module_version": "1.5.0",
          "state": {
            "_dom_classes": [],
            "_model_module": "@jupyter-widgets/controls",
            "_model_module_version": "1.5.0",
            "_model_name": "HTMLModel",
            "_view_count": null,
            "_view_module": "@jupyter-widgets/controls",
            "_view_module_version": "1.5.0",
            "_view_name": "HTMLView",
            "description": "",
            "description_tooltip": null,
            "layout": "IPY_MODEL_7edfca481a084dd391b331a52cd223da",
            "placeholder": "​",
            "style": "IPY_MODEL_cb60a6882a4a43788384a0d408e23ce5",
            "value": " 775/775 [00:00&lt;00:00, 53.6kB/s]"
          }
        },
        "df68012ddabf4d75922b73d774c4fca2": {
          "model_module": "@jupyter-widgets/base",
          "model_name": "LayoutModel",
          "model_module_version": "1.2.0",
          "state": {
            "_model_module": "@jupyter-widgets/base",
            "_model_module_version": "1.2.0",
            "_model_name": "LayoutModel",
            "_view_count": null,
            "_view_module": "@jupyter-widgets/base",
            "_view_module_version": "1.2.0",
            "_view_name": "LayoutView",
            "align_content": null,
            "align_items": null,
            "align_self": null,
            "border": null,
            "bottom": null,
            "display": null,
            "flex": null,
            "flex_flow": null,
            "grid_area": null,
            "grid_auto_columns": null,
            "grid_auto_flow": null,
            "grid_auto_rows": null,
            "grid_column": null,
            "grid_gap": null,
            "grid_row": null,
            "grid_template_areas": null,
            "grid_template_columns": null,
            "grid_template_rows": null,
            "height": null,
            "justify_content": null,
            "justify_items": null,
            "left": null,
            "margin": null,
            "max_height": null,
            "max_width": null,
            "min_height": null,
            "min_width": null,
            "object_fit": null,
            "object_position": null,
            "order": null,
            "overflow": null,
            "overflow_x": null,
            "overflow_y": null,
            "padding": null,
            "right": null,
            "top": null,
            "visibility": null,
            "width": null
          }
        },
        "340731cb2ca647d497c740c6ffde87c7": {
          "model_module": "@jupyter-widgets/base",
          "model_name": "LayoutModel",
          "model_module_version": "1.2.0",
          "state": {
            "_model_module": "@jupyter-widgets/base",
            "_model_module_version": "1.2.0",
            "_model_name": "LayoutModel",
            "_view_count": null,
            "_view_module": "@jupyter-widgets/base",
            "_view_module_version": "1.2.0",
            "_view_name": "LayoutView",
            "align_content": null,
            "align_items": null,
            "align_self": null,
            "border": null,
            "bottom": null,
            "display": null,
            "flex": null,
            "flex_flow": null,
            "grid_area": null,
            "grid_auto_columns": null,
            "grid_auto_flow": null,
            "grid_auto_rows": null,
            "grid_column": null,
            "grid_gap": null,
            "grid_row": null,
            "grid_template_areas": null,
            "grid_template_columns": null,
            "grid_template_rows": null,
            "height": null,
            "justify_content": null,
            "justify_items": null,
            "left": null,
            "margin": null,
            "max_height": null,
            "max_width": null,
            "min_height": null,
            "min_width": null,
            "object_fit": null,
            "object_position": null,
            "order": null,
            "overflow": null,
            "overflow_x": null,
            "overflow_y": null,
            "padding": null,
            "right": null,
            "top": null,
            "visibility": null,
            "width": null
          }
        },
        "ed809489eeb74aba9b1ef931b7098a8a": {
          "model_module": "@jupyter-widgets/controls",
          "model_name": "DescriptionStyleModel",
          "model_module_version": "1.5.0",
          "state": {
            "_model_module": "@jupyter-widgets/controls",
            "_model_module_version": "1.5.0",
            "_model_name": "DescriptionStyleModel",
            "_view_count": null,
            "_view_module": "@jupyter-widgets/base",
            "_view_module_version": "1.2.0",
            "_view_name": "StyleView",
            "description_width": ""
          }
        },
        "ac9a251df5314565b0c959fd47715214": {
          "model_module": "@jupyter-widgets/base",
          "model_name": "LayoutModel",
          "model_module_version": "1.2.0",
          "state": {
            "_model_module": "@jupyter-widgets/base",
            "_model_module_version": "1.2.0",
            "_model_name": "LayoutModel",
            "_view_count": null,
            "_view_module": "@jupyter-widgets/base",
            "_view_module_version": "1.2.0",
            "_view_name": "LayoutView",
            "align_content": null,
            "align_items": null,
            "align_self": null,
            "border": null,
            "bottom": null,
            "display": null,
            "flex": null,
            "flex_flow": null,
            "grid_area": null,
            "grid_auto_columns": null,
            "grid_auto_flow": null,
            "grid_auto_rows": null,
            "grid_column": null,
            "grid_gap": null,
            "grid_row": null,
            "grid_template_areas": null,
            "grid_template_columns": null,
            "grid_template_rows": null,
            "height": null,
            "justify_content": null,
            "justify_items": null,
            "left": null,
            "margin": null,
            "max_height": null,
            "max_width": null,
            "min_height": null,
            "min_width": null,
            "object_fit": null,
            "object_position": null,
            "order": null,
            "overflow": null,
            "overflow_x": null,
            "overflow_y": null,
            "padding": null,
            "right": null,
            "top": null,
            "visibility": null,
            "width": null
          }
        },
        "5530257c6c2d4fc8b9112d0815e91c89": {
          "model_module": "@jupyter-widgets/controls",
          "model_name": "ProgressStyleModel",
          "model_module_version": "1.5.0",
          "state": {
            "_model_module": "@jupyter-widgets/controls",
            "_model_module_version": "1.5.0",
            "_model_name": "ProgressStyleModel",
            "_view_count": null,
            "_view_module": "@jupyter-widgets/base",
            "_view_module_version": "1.2.0",
            "_view_name": "StyleView",
            "bar_color": null,
            "description_width": ""
          }
        },
        "7edfca481a084dd391b331a52cd223da": {
          "model_module": "@jupyter-widgets/base",
          "model_name": "LayoutModel",
          "model_module_version": "1.2.0",
          "state": {
            "_model_module": "@jupyter-widgets/base",
            "_model_module_version": "1.2.0",
            "_model_name": "LayoutModel",
            "_view_count": null,
            "_view_module": "@jupyter-widgets/base",
            "_view_module_version": "1.2.0",
            "_view_name": "LayoutView",
            "align_content": null,
            "align_items": null,
            "align_self": null,
            "border": null,
            "bottom": null,
            "display": null,
            "flex": null,
            "flex_flow": null,
            "grid_area": null,
            "grid_auto_columns": null,
            "grid_auto_flow": null,
            "grid_auto_rows": null,
            "grid_column": null,
            "grid_gap": null,
            "grid_row": null,
            "grid_template_areas": null,
            "grid_template_columns": null,
            "grid_template_rows": null,
            "height": null,
            "justify_content": null,
            "justify_items": null,
            "left": null,
            "margin": null,
            "max_height": null,
            "max_width": null,
            "min_height": null,
            "min_width": null,
            "object_fit": null,
            "object_position": null,
            "order": null,
            "overflow": null,
            "overflow_x": null,
            "overflow_y": null,
            "padding": null,
            "right": null,
            "top": null,
            "visibility": null,
            "width": null
          }
        },
        "cb60a6882a4a43788384a0d408e23ce5": {
          "model_module": "@jupyter-widgets/controls",
          "model_name": "DescriptionStyleModel",
          "model_module_version": "1.5.0",
          "state": {
            "_model_module": "@jupyter-widgets/controls",
            "_model_module_version": "1.5.0",
            "_model_name": "DescriptionStyleModel",
            "_view_count": null,
            "_view_module": "@jupyter-widgets/base",
            "_view_module_version": "1.2.0",
            "_view_name": "StyleView",
            "description_width": ""
          }
        },
        "c80a904ecbb842aebfc903c5c8778894": {
          "model_module": "@jupyter-widgets/controls",
          "model_name": "HBoxModel",
          "model_module_version": "1.5.0",
          "state": {
            "_dom_classes": [],
            "_model_module": "@jupyter-widgets/controls",
            "_model_module_version": "1.5.0",
            "_model_name": "HBoxModel",
            "_view_count": null,
            "_view_module": "@jupyter-widgets/controls",
            "_view_module_version": "1.5.0",
            "_view_name": "HBoxView",
            "box_style": "",
            "children": [
              "IPY_MODEL_c91daa4984074481a93f2cb0ef1356d8",
              "IPY_MODEL_82a628d035274991a58e0bd4c6fc5b2a",
              "IPY_MODEL_51d0ac8f83a34333b9804456d03b4fd1"
            ],
            "layout": "IPY_MODEL_927b499cab2a4595b099a1d428a3cb75"
          }
        },
        "c91daa4984074481a93f2cb0ef1356d8": {
          "model_module": "@jupyter-widgets/controls",
          "model_name": "HTMLModel",
          "model_module_version": "1.5.0",
          "state": {
            "_dom_classes": [],
            "_model_module": "@jupyter-widgets/controls",
            "_model_module_version": "1.5.0",
            "_model_name": "HTMLModel",
            "_view_count": null,
            "_view_module": "@jupyter-widgets/controls",
            "_view_module_version": "1.5.0",
            "_view_name": "HTMLView",
            "description": "",
            "description_tooltip": null,
            "layout": "IPY_MODEL_3a8318062b714654bd32cb0ee3e64ed7",
            "placeholder": "​",
            "style": "IPY_MODEL_f630832674b6464882f4b8049b653a57",
            "value": "model.safetensors: 100%"
          }
        },
        "82a628d035274991a58e0bd4c6fc5b2a": {
          "model_module": "@jupyter-widgets/controls",
          "model_name": "FloatProgressModel",
          "model_module_version": "1.5.0",
          "state": {
            "_dom_classes": [],
            "_model_module": "@jupyter-widgets/controls",
            "_model_module_version": "1.5.0",
            "_model_name": "FloatProgressModel",
            "_view_count": null,
            "_view_module": "@jupyter-widgets/controls",
            "_view_module_version": "1.5.0",
            "_view_name": "ProgressView",
            "bar_style": "success",
            "description": "",
            "description_tooltip": null,
            "layout": "IPY_MODEL_3a899fd663cb4fc783c59dfb1617047b",
            "max": 31384292,
            "min": 0,
            "orientation": "horizontal",
            "style": "IPY_MODEL_5227c24de9e748ffa4c056c0d48b9832",
            "value": 31384292
          }
        },
        "51d0ac8f83a34333b9804456d03b4fd1": {
          "model_module": "@jupyter-widgets/controls",
          "model_name": "HTMLModel",
          "model_module_version": "1.5.0",
          "state": {
            "_dom_classes": [],
            "_model_module": "@jupyter-widgets/controls",
            "_model_module_version": "1.5.0",
            "_model_name": "HTMLModel",
            "_view_count": null,
            "_view_module": "@jupyter-widgets/controls",
            "_view_module_version": "1.5.0",
            "_view_name": "HTMLView",
            "description": "",
            "description_tooltip": null,
            "layout": "IPY_MODEL_6f4dfd46fa4445d3920646bc3c2e310e",
            "placeholder": "​",
            "style": "IPY_MODEL_8524922ea3994d6d80dda9ce236ceca8",
            "value": " 31.4M/31.4M [00:03&lt;00:00, 10.1MB/s]"
          }
        },
        "927b499cab2a4595b099a1d428a3cb75": {
          "model_module": "@jupyter-widgets/base",
          "model_name": "LayoutModel",
          "model_module_version": "1.2.0",
          "state": {
            "_model_module": "@jupyter-widgets/base",
            "_model_module_version": "1.2.0",
            "_model_name": "LayoutModel",
            "_view_count": null,
            "_view_module": "@jupyter-widgets/base",
            "_view_module_version": "1.2.0",
            "_view_name": "LayoutView",
            "align_content": null,
            "align_items": null,
            "align_self": null,
            "border": null,
            "bottom": null,
            "display": null,
            "flex": null,
            "flex_flow": null,
            "grid_area": null,
            "grid_auto_columns": null,
            "grid_auto_flow": null,
            "grid_auto_rows": null,
            "grid_column": null,
            "grid_gap": null,
            "grid_row": null,
            "grid_template_areas": null,
            "grid_template_columns": null,
            "grid_template_rows": null,
            "height": null,
            "justify_content": null,
            "justify_items": null,
            "left": null,
            "margin": null,
            "max_height": null,
            "max_width": null,
            "min_height": null,
            "min_width": null,
            "object_fit": null,
            "object_position": null,
            "order": null,
            "overflow": null,
            "overflow_x": null,
            "overflow_y": null,
            "padding": null,
            "right": null,
            "top": null,
            "visibility": null,
            "width": null
          }
        },
        "3a8318062b714654bd32cb0ee3e64ed7": {
          "model_module": "@jupyter-widgets/base",
          "model_name": "LayoutModel",
          "model_module_version": "1.2.0",
          "state": {
            "_model_module": "@jupyter-widgets/base",
            "_model_module_version": "1.2.0",
            "_model_name": "LayoutModel",
            "_view_count": null,
            "_view_module": "@jupyter-widgets/base",
            "_view_module_version": "1.2.0",
            "_view_name": "LayoutView",
            "align_content": null,
            "align_items": null,
            "align_self": null,
            "border": null,
            "bottom": null,
            "display": null,
            "flex": null,
            "flex_flow": null,
            "grid_area": null,
            "grid_auto_columns": null,
            "grid_auto_flow": null,
            "grid_auto_rows": null,
            "grid_column": null,
            "grid_gap": null,
            "grid_row": null,
            "grid_template_areas": null,
            "grid_template_columns": null,
            "grid_template_rows": null,
            "height": null,
            "justify_content": null,
            "justify_items": null,
            "left": null,
            "margin": null,
            "max_height": null,
            "max_width": null,
            "min_height": null,
            "min_width": null,
            "object_fit": null,
            "object_position": null,
            "order": null,
            "overflow": null,
            "overflow_x": null,
            "overflow_y": null,
            "padding": null,
            "right": null,
            "top": null,
            "visibility": null,
            "width": null
          }
        },
        "f630832674b6464882f4b8049b653a57": {
          "model_module": "@jupyter-widgets/controls",
          "model_name": "DescriptionStyleModel",
          "model_module_version": "1.5.0",
          "state": {
            "_model_module": "@jupyter-widgets/controls",
            "_model_module_version": "1.5.0",
            "_model_name": "DescriptionStyleModel",
            "_view_count": null,
            "_view_module": "@jupyter-widgets/base",
            "_view_module_version": "1.2.0",
            "_view_name": "StyleView",
            "description_width": ""
          }
        },
        "3a899fd663cb4fc783c59dfb1617047b": {
          "model_module": "@jupyter-widgets/base",
          "model_name": "LayoutModel",
          "model_module_version": "1.2.0",
          "state": {
            "_model_module": "@jupyter-widgets/base",
            "_model_module_version": "1.2.0",
            "_model_name": "LayoutModel",
            "_view_count": null,
            "_view_module": "@jupyter-widgets/base",
            "_view_module_version": "1.2.0",
            "_view_name": "LayoutView",
            "align_content": null,
            "align_items": null,
            "align_self": null,
            "border": null,
            "bottom": null,
            "display": null,
            "flex": null,
            "flex_flow": null,
            "grid_area": null,
            "grid_auto_columns": null,
            "grid_auto_flow": null,
            "grid_auto_rows": null,
            "grid_column": null,
            "grid_gap": null,
            "grid_row": null,
            "grid_template_areas": null,
            "grid_template_columns": null,
            "grid_template_rows": null,
            "height": null,
            "justify_content": null,
            "justify_items": null,
            "left": null,
            "margin": null,
            "max_height": null,
            "max_width": null,
            "min_height": null,
            "min_width": null,
            "object_fit": null,
            "object_position": null,
            "order": null,
            "overflow": null,
            "overflow_x": null,
            "overflow_y": null,
            "padding": null,
            "right": null,
            "top": null,
            "visibility": null,
            "width": null
          }
        },
        "5227c24de9e748ffa4c056c0d48b9832": {
          "model_module": "@jupyter-widgets/controls",
          "model_name": "ProgressStyleModel",
          "model_module_version": "1.5.0",
          "state": {
            "_model_module": "@jupyter-widgets/controls",
            "_model_module_version": "1.5.0",
            "_model_name": "ProgressStyleModel",
            "_view_count": null,
            "_view_module": "@jupyter-widgets/base",
            "_view_module_version": "1.2.0",
            "_view_name": "StyleView",
            "bar_color": null,
            "description_width": ""
          }
        },
        "6f4dfd46fa4445d3920646bc3c2e310e": {
          "model_module": "@jupyter-widgets/base",
          "model_name": "LayoutModel",
          "model_module_version": "1.2.0",
          "state": {
            "_model_module": "@jupyter-widgets/base",
            "_model_module_version": "1.2.0",
            "_model_name": "LayoutModel",
            "_view_count": null,
            "_view_module": "@jupyter-widgets/base",
            "_view_module_version": "1.2.0",
            "_view_name": "LayoutView",
            "align_content": null,
            "align_items": null,
            "align_self": null,
            "border": null,
            "bottom": null,
            "display": null,
            "flex": null,
            "flex_flow": null,
            "grid_area": null,
            "grid_auto_columns": null,
            "grid_auto_flow": null,
            "grid_auto_rows": null,
            "grid_column": null,
            "grid_gap": null,
            "grid_row": null,
            "grid_template_areas": null,
            "grid_template_columns": null,
            "grid_template_rows": null,
            "height": null,
            "justify_content": null,
            "justify_items": null,
            "left": null,
            "margin": null,
            "max_height": null,
            "max_width": null,
            "min_height": null,
            "min_width": null,
            "object_fit": null,
            "object_position": null,
            "order": null,
            "overflow": null,
            "overflow_x": null,
            "overflow_y": null,
            "padding": null,
            "right": null,
            "top": null,
            "visibility": null,
            "width": null
          }
        },
        "8524922ea3994d6d80dda9ce236ceca8": {
          "model_module": "@jupyter-widgets/controls",
          "model_name": "DescriptionStyleModel",
          "model_module_version": "1.5.0",
          "state": {
            "_model_module": "@jupyter-widgets/controls",
            "_model_module_version": "1.5.0",
            "_model_name": "DescriptionStyleModel",
            "_view_count": null,
            "_view_module": "@jupyter-widgets/base",
            "_view_module_version": "1.2.0",
            "_view_name": "StyleView",
            "description_width": ""
          }
        }
      }
    }
  },
  "nbformat": 4,
  "nbformat_minor": 0
}